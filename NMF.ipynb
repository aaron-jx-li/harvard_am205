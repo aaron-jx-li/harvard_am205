{
 "cells": [
  {
   "cell_type": "code",
   "execution_count": 1,
   "id": "e415d149-978a-4877-a4b7-8494e4cbf535",
   "metadata": {},
   "outputs": [],
   "source": [
    "import pandas as pd\n",
    "import numpy as np\n",
    "import os\n",
    "import sys\n",
    "import sklearn\n",
    "import missingno as msno"
   ]
  },
  {
   "cell_type": "code",
   "execution_count": 2,
   "id": "642fcfab-674f-4a01-8b34-3c6ba96b5ffb",
   "metadata": {},
   "outputs": [],
   "source": [
    "raw_df = pd.read_csv('./mimic_cut_3d.csv').set_index('stay_id').drop(columns=['Unnamed: 0'])"
   ]
  },
  {
   "cell_type": "code",
   "execution_count": 3,
   "id": "5b296c13-1f20-4fbb-ab17-3853941a31c7",
   "metadata": {},
   "outputs": [
    {
     "data": {
      "text/html": [
       "<div>\n",
       "<style scoped>\n",
       "    .dataframe tbody tr th:only-of-type {\n",
       "        vertical-align: middle;\n",
       "    }\n",
       "\n",
       "    .dataframe tbody tr th {\n",
       "        vertical-align: top;\n",
       "    }\n",
       "\n",
       "    .dataframe thead th {\n",
       "        text-align: right;\n",
       "    }\n",
       "</style>\n",
       "<table border=\"1\" class=\"dataframe\">\n",
       "  <thead>\n",
       "    <tr style=\"text-align: right;\">\n",
       "      <th></th>\n",
       "      <th>creatinine</th>\n",
       "      <th>fraction_inspired_oxygen</th>\n",
       "      <th>lactate</th>\n",
       "      <th>urine_output</th>\n",
       "      <th>diastolic_blood_pressure</th>\n",
       "      <th>systolic_blood_pressure</th>\n",
       "      <th>gcs</th>\n",
       "      <th>partial_pressure_of_oxygen</th>\n",
       "      <th>heart_rate</th>\n",
       "      <th>temperature</th>\n",
       "      <th>respiratory_rate</th>\n",
       "    </tr>\n",
       "    <tr>\n",
       "      <th>stay_id</th>\n",
       "      <th></th>\n",
       "      <th></th>\n",
       "      <th></th>\n",
       "      <th></th>\n",
       "      <th></th>\n",
       "      <th></th>\n",
       "      <th></th>\n",
       "      <th></th>\n",
       "      <th></th>\n",
       "      <th></th>\n",
       "      <th></th>\n",
       "    </tr>\n",
       "  </thead>\n",
       "  <tbody>\n",
       "    <tr>\n",
       "      <th>33751102.0</th>\n",
       "      <td>1.150000</td>\n",
       "      <td>0.880000</td>\n",
       "      <td>6.140000</td>\n",
       "      <td>280.000000</td>\n",
       "      <td>57.058333</td>\n",
       "      <td>111.058333</td>\n",
       "      <td>15.0</td>\n",
       "      <td>98.562500</td>\n",
       "      <td>112.104167</td>\n",
       "      <td>36.303175</td>\n",
       "      <td>25.824811</td>\n",
       "    </tr>\n",
       "    <tr>\n",
       "      <th>33751102.0</th>\n",
       "      <td>1.150000</td>\n",
       "      <td>0.833333</td>\n",
       "      <td>6.650000</td>\n",
       "      <td>257.142857</td>\n",
       "      <td>56.162963</td>\n",
       "      <td>109.051852</td>\n",
       "      <td>15.0</td>\n",
       "      <td>97.714286</td>\n",
       "      <td>110.759259</td>\n",
       "      <td>36.465278</td>\n",
       "      <td>22.955387</td>\n",
       "    </tr>\n",
       "    <tr>\n",
       "      <th>33751102.0</th>\n",
       "      <td>1.150000</td>\n",
       "      <td>0.833333</td>\n",
       "      <td>7.500000</td>\n",
       "      <td>232.500000</td>\n",
       "      <td>55.746667</td>\n",
       "      <td>107.546667</td>\n",
       "      <td>15.0</td>\n",
       "      <td>103.166667</td>\n",
       "      <td>109.683333</td>\n",
       "      <td>36.558025</td>\n",
       "      <td>23.659848</td>\n",
       "    </tr>\n",
       "    <tr>\n",
       "      <th>33751102.0</th>\n",
       "      <td>1.166667</td>\n",
       "      <td>0.833333</td>\n",
       "      <td>8.200000</td>\n",
       "      <td>232.500000</td>\n",
       "      <td>55.587879</td>\n",
       "      <td>106.951515</td>\n",
       "      <td>15.0</td>\n",
       "      <td>103.166667</td>\n",
       "      <td>108.712121</td>\n",
       "      <td>36.558025</td>\n",
       "      <td>24.236226</td>\n",
       "    </tr>\n",
       "    <tr>\n",
       "      <th>33751102.0</th>\n",
       "      <td>1.166667</td>\n",
       "      <td>0.800000</td>\n",
       "      <td>8.200000</td>\n",
       "      <td>231.666667</td>\n",
       "      <td>55.538889</td>\n",
       "      <td>107.288889</td>\n",
       "      <td>15.0</td>\n",
       "      <td>103.166667</td>\n",
       "      <td>107.486111</td>\n",
       "      <td>36.572222</td>\n",
       "      <td>24.716540</td>\n",
       "    </tr>\n",
       "    <tr>\n",
       "      <th>33751102.0</th>\n",
       "      <td>1.150000</td>\n",
       "      <td>0.766667</td>\n",
       "      <td>8.200000</td>\n",
       "      <td>219.000000</td>\n",
       "      <td>54.319444</td>\n",
       "      <td>106.736111</td>\n",
       "      <td>15.0</td>\n",
       "      <td>108.600000</td>\n",
       "      <td>105.569444</td>\n",
       "      <td>36.719444</td>\n",
       "      <td>25.340278</td>\n",
       "    </tr>\n",
       "    <tr>\n",
       "      <th>35520609.0</th>\n",
       "      <td>1.575000</td>\n",
       "      <td>0.500000</td>\n",
       "      <td>1.966667</td>\n",
       "      <td>55.181818</td>\n",
       "      <td>76.717172</td>\n",
       "      <td>120.684343</td>\n",
       "      <td>15.0</td>\n",
       "      <td>62.750000</td>\n",
       "      <td>130.594017</td>\n",
       "      <td>38.074074</td>\n",
       "      <td>22.940171</td>\n",
       "    </tr>\n",
       "    <tr>\n",
       "      <th>35520609.0</th>\n",
       "      <td>1.633333</td>\n",
       "      <td>0.533333</td>\n",
       "      <td>1.700000</td>\n",
       "      <td>53.700000</td>\n",
       "      <td>76.194444</td>\n",
       "      <td>120.638889</td>\n",
       "      <td>15.0</td>\n",
       "      <td>72.250000</td>\n",
       "      <td>129.388889</td>\n",
       "      <td>37.977778</td>\n",
       "      <td>23.388889</td>\n",
       "    </tr>\n",
       "    <tr>\n",
       "      <th>35520609.0</th>\n",
       "      <td>1.633333</td>\n",
       "      <td>0.533333</td>\n",
       "      <td>1.700000</td>\n",
       "      <td>57.200000</td>\n",
       "      <td>76.833333</td>\n",
       "      <td>122.083333</td>\n",
       "      <td>15.0</td>\n",
       "      <td>72.250000</td>\n",
       "      <td>128.416667</td>\n",
       "      <td>37.977778</td>\n",
       "      <td>23.833333</td>\n",
       "    </tr>\n",
       "    <tr>\n",
       "      <th>35520609.0</th>\n",
       "      <td>1.633333</td>\n",
       "      <td>0.533333</td>\n",
       "      <td>1.700000</td>\n",
       "      <td>59.700000</td>\n",
       "      <td>74.500000</td>\n",
       "      <td>119.833333</td>\n",
       "      <td>15.0</td>\n",
       "      <td>69.333333</td>\n",
       "      <td>127.333333</td>\n",
       "      <td>38.018519</td>\n",
       "      <td>23.750000</td>\n",
       "    </tr>\n",
       "  </tbody>\n",
       "</table>\n",
       "</div>"
      ],
      "text/plain": [
       "            creatinine  fraction_inspired_oxygen   lactate  urine_output  \\\n",
       "stay_id                                                                    \n",
       "33751102.0    1.150000                  0.880000  6.140000    280.000000   \n",
       "33751102.0    1.150000                  0.833333  6.650000    257.142857   \n",
       "33751102.0    1.150000                  0.833333  7.500000    232.500000   \n",
       "33751102.0    1.166667                  0.833333  8.200000    232.500000   \n",
       "33751102.0    1.166667                  0.800000  8.200000    231.666667   \n",
       "33751102.0    1.150000                  0.766667  8.200000    219.000000   \n",
       "35520609.0    1.575000                  0.500000  1.966667     55.181818   \n",
       "35520609.0    1.633333                  0.533333  1.700000     53.700000   \n",
       "35520609.0    1.633333                  0.533333  1.700000     57.200000   \n",
       "35520609.0    1.633333                  0.533333  1.700000     59.700000   \n",
       "\n",
       "            diastolic_blood_pressure  systolic_blood_pressure   gcs  \\\n",
       "stay_id                                                               \n",
       "33751102.0                 57.058333               111.058333  15.0   \n",
       "33751102.0                 56.162963               109.051852  15.0   \n",
       "33751102.0                 55.746667               107.546667  15.0   \n",
       "33751102.0                 55.587879               106.951515  15.0   \n",
       "33751102.0                 55.538889               107.288889  15.0   \n",
       "33751102.0                 54.319444               106.736111  15.0   \n",
       "35520609.0                 76.717172               120.684343  15.0   \n",
       "35520609.0                 76.194444               120.638889  15.0   \n",
       "35520609.0                 76.833333               122.083333  15.0   \n",
       "35520609.0                 74.500000               119.833333  15.0   \n",
       "\n",
       "            partial_pressure_of_oxygen  heart_rate  temperature  \\\n",
       "stay_id                                                           \n",
       "33751102.0                   98.562500  112.104167    36.303175   \n",
       "33751102.0                   97.714286  110.759259    36.465278   \n",
       "33751102.0                  103.166667  109.683333    36.558025   \n",
       "33751102.0                  103.166667  108.712121    36.558025   \n",
       "33751102.0                  103.166667  107.486111    36.572222   \n",
       "33751102.0                  108.600000  105.569444    36.719444   \n",
       "35520609.0                   62.750000  130.594017    38.074074   \n",
       "35520609.0                   72.250000  129.388889    37.977778   \n",
       "35520609.0                   72.250000  128.416667    37.977778   \n",
       "35520609.0                   69.333333  127.333333    38.018519   \n",
       "\n",
       "            respiratory_rate  \n",
       "stay_id                       \n",
       "33751102.0         25.824811  \n",
       "33751102.0         22.955387  \n",
       "33751102.0         23.659848  \n",
       "33751102.0         24.236226  \n",
       "33751102.0         24.716540  \n",
       "33751102.0         25.340278  \n",
       "35520609.0         22.940171  \n",
       "35520609.0         23.388889  \n",
       "35520609.0         23.833333  \n",
       "35520609.0         23.750000  "
      ]
     },
     "execution_count": 3,
     "metadata": {},
     "output_type": "execute_result"
    }
   ],
   "source": [
    "raw_df.head(n=10)"
   ]
  },
  {
   "cell_type": "code",
   "execution_count": 4,
   "id": "12be862b-b9ff-4651-9184-8b9cb8363fee",
   "metadata": {},
   "outputs": [
    {
     "data": {
      "text/plain": [
       "Index(['creatinine', 'fraction_inspired_oxygen', 'lactate', 'urine_output',\n",
       "       'diastolic_blood_pressure', 'systolic_blood_pressure', 'gcs',\n",
       "       'partial_pressure_of_oxygen', 'heart_rate', 'temperature',\n",
       "       'respiratory_rate'],\n",
       "      dtype='object')"
      ]
     },
     "execution_count": 4,
     "metadata": {},
     "output_type": "execute_result"
    }
   ],
   "source": [
    "raw_df.columns"
   ]
  },
  {
   "cell_type": "code",
   "execution_count": 5,
   "id": "8c1c5470-ec05-4a3f-8661-ea68298cf549",
   "metadata": {},
   "outputs": [],
   "source": [
    "def mask_random_data(data, mask_fraction=0.1):\n",
    "    \"\"\"\n",
    "    Randomly masks a given fraction of the data in a DataFrame.\n",
    "\n",
    "    :param data: Pandas DataFrame to be masked.\n",
    "    :param mask_fraction: Fraction of the data to be masked. Default is 0.1 (10%).\n",
    "    :return: DataFrame with masked data.\n",
    "    \"\"\"\n",
    "    # Flatten the DataFrame to work with individual elements\n",
    "    flattened_data = data.to_numpy().flatten()\n",
    "\n",
    "    # Calculate the number of elements to mask\n",
    "    num_to_mask = int(len(flattened_data) * mask_fraction)\n",
    "\n",
    "    # Randomly select indices to mask\n",
    "    mask_indices = np.random.choice(len(flattened_data), num_to_mask, replace=False)\n",
    "\n",
    "    # Mask the selected indices\n",
    "    for idx in mask_indices:\n",
    "        flattened_data[idx] = np.nan\n",
    "\n",
    "    # Reshape the data back to its original shape and create a new DataFrame\n",
    "    return pd.DataFrame(flattened_data.reshape(data.shape), columns=data.columns)"
   ]
  },
  {
   "cell_type": "code",
   "execution_count": 6,
   "id": "64f73677-78e6-4d88-adb2-bc3c8e4248eb",
   "metadata": {},
   "outputs": [],
   "source": [
    "#mu, std = raw_df.mean(axis=0).values, raw_df.std(axis=0).values\n",
    "#normalized_df = (raw_df - mu)/std\n",
    "#masked_df = mask_random_data(normalized_df)\n",
    "#masked_df.head(n=30)"
   ]
  },
  {
   "cell_type": "code",
   "execution_count": 7,
   "id": "44a70f4f-1531-454e-9eee-e82dc6207fb7",
   "metadata": {},
   "outputs": [],
   "source": [
    "# Normalize to [0, 1] range\n",
    "df_min, df_max = raw_df.min(axis=0), raw_df.max(axis=0)\n",
    "normalized_df = (raw_df - df_min)/(df_max - df_min)"
   ]
  },
  {
   "cell_type": "code",
   "execution_count": 8,
   "id": "2d31d924-5526-4441-8187-807a15580f77",
   "metadata": {},
   "outputs": [],
   "source": [
    "#!pip install scikit-learn==1.3.2"
   ]
  },
  {
   "cell_type": "code",
   "execution_count": 9,
   "id": "1e4add4d-49a0-45c8-8d06-b28ca729049e",
   "metadata": {},
   "outputs": [
    {
     "name": "stdout",
     "output_type": "stream",
     "text": [
      "1.3.2\n"
     ]
    }
   ],
   "source": [
    "from sklearn.decomposition import NMF, non_negative_factorization\n",
    "import sklearn\n",
    "print(sklearn.__version__)\n",
    "def NMF_impute_per_patient(masked_df):\n",
    "    imputed_matrix = np.array([]).reshape(0, 11)\n",
    "    for i in range(len(masked_df) // 6):\n",
    "        patient_df = masked_df.iloc[i:i+6]\n",
    "        old_patient_matrix = patient_df.to_numpy()\n",
    "\n",
    "        na_indices = patient_df.isna().to_numpy()\n",
    "        patient_df = patient_df.fillna(method='ffill').fillna(patient_df.mean())\n",
    "        patient_matrix = patient_df.to_numpy()\n",
    "\n",
    "        W, H, n_iter = non_negative_factorization(patient_matrix, init='random', random_state=0, max_iter=500, tol=1e-4, alpha_W=0.5)\n",
    "        #print(f'Number of iterations: {n_iter}')\n",
    "        #W = model.fit_transform(patient_matrix)\n",
    "        #H = model.components_\n",
    "        pred = W @ H\n",
    "        old_patient_matrix[na_indices] = pred[na_indices]\n",
    "        imputed_matrix = np.concatenate((imputed_matrix, old_patient_matrix), axis=0)\n",
    "        \n",
    "    return imputed_matrix"
   ]
  },
  {
   "cell_type": "code",
   "execution_count": 10,
   "id": "a85d1ed6-8b0d-4851-9e02-fd9cb161d4c0",
   "metadata": {
    "tags": []
   },
   "outputs": [],
   "source": [
    "masked_df = mask_random_data(normalized_df)\n",
    "imputed_matrix = NMF_impute_per_patient(masked_df)"
   ]
  },
  {
   "cell_type": "code",
   "execution_count": 11,
   "id": "4b0855db-29d9-4870-9c82-fcb93f7511e8",
   "metadata": {},
   "outputs": [
    {
     "data": {
      "text/plain": [
       "(3066, 11)"
      ]
     },
     "execution_count": 11,
     "metadata": {},
     "output_type": "execute_result"
    }
   ],
   "source": [
    "imputed_matrix.shape"
   ]
  },
  {
   "cell_type": "code",
   "execution_count": 12,
   "id": "84ef19dc-5c1c-4fbb-a438-37dec1356e91",
   "metadata": {},
   "outputs": [],
   "source": [
    "def RMSD_global(y, pred, na_indices):\n",
    "    results = []\n",
    "    assert y.shape == pred.shape\n",
    "    assert y.shape == na_indices.shape\n",
    "    for i in range(y.shape[1]):\n",
    "        y_i, pred_i = y[:, i][na_indices[:, i]], pred[:, i][na_indices[:, i]]\n",
    "        var = np.square(y_i - pred_i) \n",
    "        rmsd = np.sum(var) / y_i.shape[0]\n",
    "        results.append(rmsd)\n",
    "    return np.array(results)\n",
    "\n",
    "\n",
    "\n",
    "def RMSD_local(y, pred, na_indices):\n",
    "    results = []\n",
    "    assert y.shape == pred.shape\n",
    "    assert y.shape == na_indices.shape\n",
    "    for i in range(y.shape[1]):\n",
    "        y_i, pred_i = y[:, i][na_indices[:, i]], pred[:, i][na_indices[:, i]]\n",
    "        diff = (y_i - pred_i) / (np.max(y_i) - np.min(y_i))\n",
    "        var = np.square(diff) \n",
    "        rmsd = np.sum(var) / y_i.shape[0]\n",
    "        results.append(rmsd)\n",
    "    return np.array(results)\n",
    "        \n",
    "        "
   ]
  },
  {
   "cell_type": "code",
   "execution_count": 13,
   "id": "8e09bce0-fdf2-4926-97e2-c3e5ddccf6a4",
   "metadata": {},
   "outputs": [],
   "source": [
    "na_indices = masked_df.isna().to_numpy()\n",
    "y = normalized_df.to_numpy()\n",
    "rmsd_global = RMSD_global(y, imputed_matrix, na_indices)"
   ]
  },
  {
   "cell_type": "code",
   "execution_count": 14,
   "id": "b875ebf8-08f9-4c1d-838d-fff18922a8dd",
   "metadata": {},
   "outputs": [],
   "source": [
    "na_indices = masked_df.isna().to_numpy()\n",
    "y = normalized_df.to_numpy()\n",
    "rmsd_local = RMSD_local(y, imputed_matrix, na_indices)"
   ]
  },
  {
   "cell_type": "code",
   "execution_count": 15,
   "id": "e14cf41c-b116-4443-9215-7a639ab7dddc",
   "metadata": {},
   "outputs": [
    {
     "name": "stdout",
     "output_type": "stream",
     "text": [
      "0.060897377136205535\n",
      "0.08398389835057431\n"
     ]
    }
   ],
   "source": [
    "print(np.mean(rmsd_global))\n",
    "print(np.mean(rmsd_local))"
   ]
  },
  {
   "cell_type": "code",
   "execution_count": null,
   "id": "69c5d052-962c-4064-bfbc-d57d9026e032",
   "metadata": {},
   "outputs": [],
   "source": []
  }
 ],
 "metadata": {
  "kernelspec": {
   "display_name": "Python 3 (ipykernel)",
   "language": "python",
   "name": "python3"
  },
  "language_info": {
   "codemirror_mode": {
    "name": "ipython",
    "version": 3
   },
   "file_extension": ".py",
   "mimetype": "text/x-python",
   "name": "python",
   "nbconvert_exporter": "python",
   "pygments_lexer": "ipython3",
   "version": "3.9.7"
  }
 },
 "nbformat": 4,
 "nbformat_minor": 5
}
